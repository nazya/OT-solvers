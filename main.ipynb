{
 "cells": [
  {
   "cell_type": "code",
   "execution_count": 1,
   "metadata": {},
   "outputs": [],
   "source": [
    "import sys\n",
    "\n",
    "#https://pypi.org/project/python-mnist/\n",
    "new_path = 'python-mnist/mnist'\n",
    "sys.path.append(new_path)\n",
    "\n",
    "#https://pypi.org/project/python-mnist/\n",
    "from mnist import MNIST\n",
    "import numpy as np\n",
    "from scipy.spatial.distance import cdist\n",
    "\n",
    "#https://pypi.org/project/python-mnist/\n",
    "mndata = MNIST('./python-mnist/data')\n",
    "\n",
    "images, labels = mndata.load_training()\n",
    "n = len(images[0])\n",
    "%matplotlib inline\n",
    "import matplotlib.pyplot as plt\n",
    "\n",
    "def cartesian_product(*arrays):\n",
    "    la = len(arrays)\n",
    "    dtype = np.result_type(*arrays)\n",
    "    arr = np.empty([len(a) for a in arrays] + [la], dtype=dtype)\n",
    "    for i, a in enumerate(np.ix_(*arrays)):\n",
    "        arr[...,i] = a\n",
    "    return arr.reshape(-1, la)\n",
    "m = int(np.sqrt(n))\n",
    "C = np.arange(m)\n",
    "C = cartesian_product(C, C)\n",
    "C = cdist(C, C)\n",
    "C = C / np.median(C)\n",
    "C[C==0] = 1e-4\n",
    "#(C / np.median(C)).max()"
   ]
  },
  {
   "cell_type": "code",
   "execution_count": 2,
   "metadata": {},
   "outputs": [],
   "source": [
    "delta = 1e-6\n",
    "l = len(images)"
   ]
  },
  {
   "cell_type": "code",
   "execution_count": 3,
   "metadata": {},
   "outputs": [],
   "source": [
    "def random_mnist():\n",
    "    p, q = np.random.randint(l), np.random.randint(l)\n",
    "    p, q = np.float64(images[p]), np.float64(images[q])\n",
    "    p[p == 0] = delta\n",
    "    q[q == 0] = delta\n",
    "    return p / sum(p), q / sum(q)"
   ]
  },
  {
   "cell_type": "code",
   "execution_count": 4,
   "metadata": {
    "scrolled": true
   },
   "outputs": [
    {
     "data": {
      "image/png": "[encoded data removed]",
      "text/plain": [
       "<matplotlib.figure.Figure at 0x7f8a98087310>"
      ]
     },
     "metadata": {},
     "output_type": "display_data"
    }
   ],
   "source": [
    "p, q = random_mnist()\n",
    "plot = True\n",
    "if plot:\n",
    "    #plt.imshow(p.reshape(-1, m), cmap=plt.get_cmap('gray'))\n",
    "    plt.imshow(q.reshape(-1, m), cmap=plt.get_cmap('gray'))\n",
    "\n",
    "def mround(x):\n",
    "    r = p / x.dot(one)\n",
    "    r[r>1] = 1.\n",
    "    F = np.diag(r).dot(x)\n",
    "    c = q / (x.T).dot(one)\n",
    "    c[c>1] = 1.\n",
    "    F = F.dot(np.diag(c))\n",
    "    err_r = p - F.dot(one)\n",
    "    err_c = q - (F.T).dot(one)\n",
    "    return F + np.outer(err_r, err_c) / abs(err_r).sum()"
   ]
  },
  {
   "cell_type": "code",
   "execution_count": 5,
   "metadata": {
    "scrolled": true
   },
   "outputs": [],
   "source": [
    "eps = 1e-2\n",
    "gamma = eps/3/np.log(n)\n",
    "one = np.ones(n, np.float64)\n",
    "I = np.ones([n,n], np.float64)\n",
    "def f_true(x):\n",
    "    return (C * x).sum()\n",
    "\n",
    "def f_(x):\n",
    "    y = (x.reshape(-1)).copy()\n",
    "    y[x.reshape(-1)==0.] = 1.\n",
    "    y = y.reshape(n, -1)\n",
    "    return (C * x).sum() + gamma * (x * np.log(y)).sum()\n",
    "\n",
    "def x_(la, mu):\n",
    "    x_star = np.exp((-C - np.outer(la, one) - np.outer(one, mu)) / gamma - I)\n",
    "    return x_star\n",
    "\n",
    "def phi_(lamu):\n",
    "    x_star = x_(lamu[:n], lamu[n:])\n",
    "    return lamu[:n].dot(p) + lamu[n:].dot(q) + gamma * x_star.sum()\n",
    "                    \n",
    "def grad_phi_(lamu):\n",
    "    x_star = x_(lamu[:n], lamu[n:])\n",
    "    return np.concatenate((p - x_star.dot(one), q - (x_star.T).dot(one)), 0)\n",
    "\n",
    "def phi_grad_phi_(lamu):\n",
    "    x_star = x_(lamu[:n], lamu[n:])\n",
    "    return lamu[:n].dot(p) + lamu[n:].dot(q) + gamma * x_star.sum(), np.concatenate((p - x_star.dot(one), q - (x_star.T).dot(one)), 0)\n",
    "\n",
    "def phi_1d_(x, e):\n",
    "    def f1d(h):\n",
    "        return phi_(x + h * e)\n",
    "    return f1d\n",
    "\n",
    "def grad_phi_1d_(x, e):\n",
    "    def gradf1d(h):\n",
    "        return np.array(grad_phi_(x + h * e).dot(e))\n",
    "    return gradf1d\n",
    "\n",
    "def phi_grad_phi_1d_(x, e):\n",
    "    def fgradf1d(h):\n",
    "        lamu = x + h * e\n",
    "        x_star = x_(lamu[:n], lamu[n:])\n",
    "        return lamu[:n].dot(p) + lamu[n:].dot(q) + gamma * x_star.sum(), np.array(np.concatenate((p - x_star.dot(one), q - (x_star.T).dot(one)), 0).dot(e))\n",
    "    return fgradf1d    \n",
    "\n",
    "def universal(f_, grad_f_, f_grad_f_, x, eps):\n",
    "    L = 1.\n",
    "    betta = alpha = 0.\n",
    "    n = x.shape[0]\n",
    "    while True:\n",
    "        L = L / 2\n",
    "        while True:\n",
    "            f_x, grad_f_x = f_grad_f_(x)\n",
    "            x_new = x - grad_f_x / L\n",
    "            dx = x_new - x\n",
    "            f_x_new = f_(x_new)\n",
    "            if f_x_new <= f_x + grad_f_x.dot(dx) + L * dx.dot(dx) / 2:\n",
    "                break    \n",
    "            else:\n",
    "                L = L * 2\n",
    "        if abs(f_x - f_x_new) < eps:\n",
    "            return x_new, f_x_new\n",
    "        if np.linalg.norm(x - x_new) < eps:\n",
    "            return x_new, f_x_new\n",
    "        x = x_new.copy()\n",
    "\n",
    "def binary(f, a, b, epsilon):\n",
    "    c = (a + b) / 2\n",
    "    while abs(b - a) > epsilon:\n",
    "        y = (a + c) / 2.0\n",
    "        if f(y) <= f(c):\n",
    "            b = c\n",
    "            c = y\n",
    "        else:\n",
    "            z = (b + c) / 2.0\n",
    "            if f(c) <= f(z):\n",
    "                a = y\n",
    "                b = z\n",
    "            else:\n",
    "                a = c\n",
    "                c = z\n",
    "    return c, f(c)"
   ]
  },
  {
   "cell_type": "markdown",
   "metadata": {},
   "source": [
    "# 1802.04367"
   ]
  },
  {
   "cell_type": "code",
   "execution_count": 6,
   "metadata": {
    "scrolled": false
   },
   "outputs": [],
   "source": [
    "def APDAGD(N):\n",
    "    L = 1.\n",
    "    betta = alpha = 0.\n",
    "    x_hat = np.zeros([n, n], np.float64)\n",
    "    z = np.zeros(2*n, np.float64)\n",
    "    z_new = np.zeros(2*n, np.float64)\n",
    "    eta = np.zeros(2*n, np.float64)\n",
    "    eta_new  = np.zeros(2*n, np.float64)\n",
    "    k=0\n",
    "    phi_etas = []\n",
    "    phis = []\n",
    "    xs = []\n",
    "    while k < N:\n",
    "        L = L / 2\n",
    "        while True:\n",
    "            alpha_new = (1 + np.sqrt(4*L*betta + 1)) / 2 / L\n",
    "            betta_new = betta + alpha_new\n",
    "            tau = alpha_new / betta_new\n",
    "            lamu_new = tau * z + (1 - tau) * eta\n",
    "            \n",
    "            #phi_new, grad_phi_new = phi_grad_phi_(lamu_new)\n",
    "            x_star = x_(lamu_new[:n], lamu_new[n:])\n",
    "            phi_new = lamu_new[:n].dot(p) + lamu_new[n:].dot(q) + gamma * x_star.sum()\n",
    "            grad_phi_new = np.concatenate((p - x_star.dot(one), q - (x_star.T).dot(one)), 0)\n",
    "            \n",
    "            z_new = z - alpha_new * grad_phi_new\n",
    "            eta_new = tau * z_new + (1-tau) * eta\n",
    "            phi_eta = phi_(eta_new)\n",
    "            if phi_eta <= phi_new + grad_phi_new.dot(eta_new - lamu_new) + L * ((eta_new - lamu_new)**2).sum() / 2:\n",
    "                alpha, betta = alpha_new, betta_new\n",
    "                z = z_new.copy()\n",
    "                eta = eta_new.copy()\n",
    "                break    \n",
    "            L = L * 2\n",
    "        x_hat = tau * x_star + (1 - tau) * x_hat\n",
    "        xs.append(x_hat)\n",
    "        phis.append(phi_new)    \n",
    "        k=k+1\n",
    "    return phis, xs"
   ]
  },
  {
   "cell_type": "markdown",
   "metadata": {},
   "source": [
    "# 1809.05895"
   ]
  },
  {
   "cell_type": "code",
   "execution_count": 9,
   "metadata": {
    "scrolled": false
   },
   "outputs": [],
   "source": [
    "def AGMsDR(N):\n",
    "    A = 0.\n",
    "    x = 0.* np.ones(2*n, np.float64)\n",
    "    v = x.copy()\n",
    "    psi_A = 0.5\n",
    "    psi_b = x.copy()\n",
    "    k=0\n",
    "    h = 0\n",
    "    phis = []\n",
    "    lamus = []\n",
    "    while k < N:\n",
    "        betta, f_y = binary(phi_1d_(v, x - v), 0., 1., 0.01)\n",
    "        #betta, f_y =  universal(phi_1d_(v, x-v), grad_phi_1d_(v, x-v), phi_grad_phi_1d_(v, x-v), np.zeros(1, np.float64), 0.000001)\n",
    "        if False:\n",
    "            xx = np.linspace(betta - 0.01*betta, betta + 0.01*betta, 10)\n",
    "            yy = [(phi_1d_(v, x-v))(j) for j in xx]\n",
    "            plt.plot(xx, yy)\n",
    "            plt.show()\n",
    "        y = v + betta * (x - v)\n",
    "        grad_f_y = grad_phi_(y)\n",
    "        norm_grad_f_y = np.linalg.norm(grad_f_y)\n",
    "        grad_f_sharp = grad_f_y / norm_grad_f_y\n",
    "        h, f_x =  universal(phi_1d_(y, -grad_f_sharp), grad_phi_1d_(y, -grad_f_sharp), phi_grad_phi_1d_(y, -grad_f_sharp), 0.*np.ones(1, np.float64), 0.000001)\n",
    "        if False:\n",
    "            xx = np.linspace(h - 0.01*h, h + 0.01*h, 10)\n",
    "            yy = [(phi_1d_(y, -grad_f_sharp))(j) for j in xx]\n",
    "            plt.plot(xx, yy)\n",
    "            plt.show()\n",
    "        x = y - h * grad_f_sharp\n",
    "        g, a = (f_x - f_y), norm_grad_f_y**2\n",
    "        alpha = (-g + np.sqrt(g*g - 2*a*g*A)) / a \n",
    "        A = A + alpha\n",
    "        psi_b = psi_b + alpha * (grad_f_y)\n",
    "        v = psi_b / psi_A\n",
    "        k = k + 1\n",
    "        phis.append(f_x)\n",
    "        lamus.append(x)\n",
    "    return phis, lamus"
   ]
  },
  {
   "cell_type": "markdown",
   "metadata": {},
   "source": [
    "# Comparison"
   ]
  },
  {
   "cell_type": "code",
   "execution_count": 10,
   "metadata": {},
   "outputs": [],
   "source": [
    "p, q = random_mnist()\n",
    "\n",
    "N = 28\n",
    "phis1, xs1 = APDAGD(N)\n",
    "\n",
    "phis2, lamus2 = AGMsDR(N)"
   ]
  },
  {
   "cell_type": "markdown",
   "metadata": {},
   "source": [
    "# Dual Objective vs Iterations"
   ]
  },
  {
   "cell_type": "code",
   "execution_count": 11,
   "metadata": {},
   "outputs": [
    {
     "data": {
      "image/png": "[encoded data removed]",
      "text/plain": [
       "<matplotlib.figure.Figure at 0x7f8a6da55790>"
      ]
     },
     "metadata": {},
     "output_type": "display_data"
    }
   ],
   "source": [
    "fig, ax = plt.subplots()\n",
    "ax.plot(phis1, '-b', label='APDAGD')\n",
    "ax.plot(phis2, '-r', label='AGMsDR')\n",
    "leg = ax.legend();"
   ]
  },
  {
   "cell_type": "markdown",
   "metadata": {},
   "source": [
    "# Reguralized Primal vs Iteration"
   ]
  },
  {
   "cell_type": "code",
   "execution_count": 12,
   "metadata": {
    "scrolled": true
   },
   "outputs": [
    {
     "data": {
      "image/png": "[encoded data removed]",
      "text/plain": [
       "<matplotlib.figure.Figure at 0x7f8a6d9f6d90>"
      ]
     },
     "metadata": {},
     "output_type": "display_data"
    }
   ],
   "source": [
    "xs2 = [x_(i[:n], i[n:]) for i in lamus2]\n",
    "f1 = [f_(i) for i in xs1]\n",
    "f2 = [f_(i) for i in xs2]\n",
    "fig, ax = plt.subplots()\n",
    "ax.plot(f1, '-b', label='APDAGD')\n",
    "ax.plot(f2, '-r', label='AGMsDR')\n",
    "leg = ax.legend();"
   ]
  },
  {
   "cell_type": "markdown",
   "metadata": {},
   "source": [
    "# Non-eguralized Primal vs Iteration"
   ]
  },
  {
   "cell_type": "code",
   "execution_count": 13,
   "metadata": {
    "scrolled": true
   },
   "outputs": [
    {
     "data": {
      "image/png": "[encoded data removed]",
      "text/plain": [
       "<matplotlib.figure.Figure at 0x7f8a6d4f1150>"
      ]
     },
     "metadata": {},
     "output_type": "display_data"
    }
   ],
   "source": [
    "f1 = [f_true(i) for i in xs1]\n",
    "f2 = [f_true(i) for i in xs2]\n",
    "fig, ax = plt.subplots()\n",
    "ax.plot(f1, '-b', label='APDAGD')\n",
    "ax.plot(f2, '-r', label='AGMsDR')\n",
    "leg = ax.legend();"
   ]
  },
  {
   "cell_type": "markdown",
   "metadata": {},
   "source": [
    "# Non-reguralized Primal vs Iteration with Rounding"
   ]
  },
  {
   "cell_type": "code",
   "execution_count": 14,
   "metadata": {
    "scrolled": true
   },
   "outputs": [
    {
     "data": {
      "image/png": "[encoded data removed]",
      "text/plain": [
       "<matplotlib.figure.Figure at 0x7f8a6d484850>"
      ]
     },
     "metadata": {},
     "output_type": "display_data"
    }
   ],
   "source": [
    "f1 = [f_true(mround(i)) for i in xs1]\n",
    "f2 = [f_true(mround(i)) for i in xs2]\n",
    "fig, ax = plt.subplots()\n",
    "ax.plot(f1, '-b', label='APDAGD')\n",
    "ax.plot(f2, '-r', label='AGMsDR')\n",
    "leg = ax.legend();"
   ]
  },
  {
   "cell_type": "code",
   "execution_count": null,
   "metadata": {
    "scrolled": true
   },
   "outputs": [],
   "source": []
  },
  {
   "cell_type": "code",
   "execution_count": null,
   "metadata": {
    "scrolled": true
   },
   "outputs": [],
   "source": []
  }
 ],
 "metadata": {
  "kernelspec": {
   "display_name": "Python 2",
   "language": "python",
   "name": "python2"
  },
  "language_info": {
   "codemirror_mode": {
    "name": "ipython",
    "version": 2
   },
   "file_extension": ".py",
   "mimetype": "text/x-python",
   "name": "python",
   "nbconvert_exporter": "python",
   "pygments_lexer": "ipython2",
   "version": "2.7.14"
  }
 },
 "nbformat": 4,
 "nbformat_minor": 2
}
